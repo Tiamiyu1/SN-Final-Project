{
 "cells": [
  {
   "cell_type": "code",
   "execution_count": null,
   "metadata": {},
   "outputs": [],
   "source": []
  },
  {
   "cell_type": "code",
   "execution_count": null,
   "metadata": {},
   "outputs": [],
   "source": []
  },
  {
   "cell_type": "code",
   "execution_count": null,
   "metadata": {},
   "outputs": [],
   "source": []
  },
  {
   "cell_type": "markdown",
   "metadata": {},
   "source": [
    "# Import necessary libraries"
   ]
  },
  {
   "cell_type": "code",
   "execution_count": 1,
   "metadata": {},
   "outputs": [],
   "source": [
    "import numpy as np\n",
    "import pandas as pd\n",
    "import matplotlib.pyplot as plt\n",
    "import seaborn as sns\n",
    "%matplotlib inline\n",
    "sns.set_style('whitegrid')\n",
    "import warnings\n",
    "warnings.filterwarnings('ignore')"
   ]
  },
  {
   "cell_type": "markdown",
   "metadata": {},
   "source": [
    "# Read the csv file"
   ]
  },
  {
   "cell_type": "code",
   "execution_count": 2,
   "metadata": {},
   "outputs": [],
   "source": [
    "fraud = pd.read_csv('fraud_data.csv')"
   ]
  },
  {
   "cell_type": "code",
   "execution_count": 3,
   "metadata": {},
   "outputs": [
    {
     "name": "stdout",
     "output_type": "stream",
     "text": [
      "<class 'pandas.core.frame.DataFrame'>\n",
      "RangeIndex: 21693 entries, 0 to 21692\n",
      "Data columns (total 30 columns):\n",
      "V1        21693 non-null float64\n",
      "V2        21693 non-null float64\n",
      "V3        21693 non-null float64\n",
      "V4        21693 non-null float64\n",
      "V5        21693 non-null float64\n",
      "V6        21693 non-null float64\n",
      "V7        21693 non-null float64\n",
      "V8        21693 non-null float64\n",
      "V9        21693 non-null float64\n",
      "V10       21693 non-null float64\n",
      "V11       21693 non-null float64\n",
      "V12       21693 non-null float64\n",
      "V13       21693 non-null float64\n",
      "V14       21693 non-null float64\n",
      "V15       21693 non-null float64\n",
      "V16       21693 non-null float64\n",
      "V17       21693 non-null float64\n",
      "V18       21693 non-null float64\n",
      "V19       21693 non-null float64\n",
      "V20       21693 non-null float64\n",
      "V21       21693 non-null float64\n",
      "V22       21693 non-null float64\n",
      "V23       21693 non-null float64\n",
      "V24       21693 non-null float64\n",
      "V25       21693 non-null float64\n",
      "V26       21693 non-null float64\n",
      "V27       21693 non-null float64\n",
      "V28       21693 non-null float64\n",
      "Amount    21693 non-null float64\n",
      "Class     21693 non-null int64\n",
      "dtypes: float64(29), int64(1)\n",
      "memory usage: 5.0 MB\n"
     ]
    }
   ],
   "source": [
    "#check details about the data set\n",
    "fraud.info()"
   ]
  },
  {
   "cell_type": "code",
   "execution_count": 4,
   "metadata": {},
   "outputs": [],
   "source": [
    "#There are 30 columns with 21693 rows of which are flaot data type except the Class column which is int; \n",
    "#the the target variable"
   ]
  },
  {
   "cell_type": "code",
   "execution_count": 5,
   "metadata": {},
   "outputs": [
    {
     "data": {
      "text/html": [
       "<div>\n",
       "<style scoped>\n",
       "    .dataframe tbody tr th:only-of-type {\n",
       "        vertical-align: middle;\n",
       "    }\n",
       "\n",
       "    .dataframe tbody tr th {\n",
       "        vertical-align: top;\n",
       "    }\n",
       "\n",
       "    .dataframe thead th {\n",
       "        text-align: right;\n",
       "    }\n",
       "</style>\n",
       "<table border=\"1\" class=\"dataframe\">\n",
       "  <thead>\n",
       "    <tr style=\"text-align: right;\">\n",
       "      <th></th>\n",
       "      <th>V1</th>\n",
       "      <th>V2</th>\n",
       "      <th>V3</th>\n",
       "      <th>V4</th>\n",
       "      <th>V5</th>\n",
       "      <th>V6</th>\n",
       "      <th>V7</th>\n",
       "      <th>V8</th>\n",
       "      <th>V9</th>\n",
       "      <th>V10</th>\n",
       "      <th>V11</th>\n",
       "      <th>V12</th>\n",
       "      <th>V13</th>\n",
       "      <th>V14</th>\n",
       "      <th>V15</th>\n",
       "      <th>V16</th>\n",
       "      <th>V17</th>\n",
       "      <th>V18</th>\n",
       "      <th>V19</th>\n",
       "      <th>V20</th>\n",
       "      <th>V21</th>\n",
       "      <th>V22</th>\n",
       "      <th>V23</th>\n",
       "      <th>V24</th>\n",
       "      <th>V25</th>\n",
       "      <th>V26</th>\n",
       "      <th>V27</th>\n",
       "      <th>V28</th>\n",
       "      <th>Amount</th>\n",
       "      <th>Class</th>\n",
       "    </tr>\n",
       "  </thead>\n",
       "  <tbody>\n",
       "    <tr>\n",
       "      <td>0</td>\n",
       "      <td>1.176563</td>\n",
       "      <td>0.323798</td>\n",
       "      <td>0.536927</td>\n",
       "      <td>1.047002</td>\n",
       "      <td>-0.368652</td>\n",
       "      <td>-0.728586</td>\n",
       "      <td>0.084678</td>\n",
       "      <td>-0.069246</td>\n",
       "      <td>-0.266389</td>\n",
       "      <td>0.155315</td>\n",
       "      <td>1.535776</td>\n",
       "      <td>1.019947</td>\n",
       "      <td>-0.096511</td>\n",
       "      <td>0.573023</td>\n",
       "      <td>0.215214</td>\n",
       "      <td>0.265249</td>\n",
       "      <td>-0.612064</td>\n",
       "      <td>0.093821</td>\n",
       "      <td>-0.064890</td>\n",
       "      <td>-0.137258</td>\n",
       "      <td>-0.109627</td>\n",
       "      <td>-0.341365</td>\n",
       "      <td>0.057845</td>\n",
       "      <td>0.499180</td>\n",
       "      <td>0.415211</td>\n",
       "      <td>-0.581949</td>\n",
       "      <td>0.015472</td>\n",
       "      <td>0.018065</td>\n",
       "      <td>4.67</td>\n",
       "      <td>0</td>\n",
       "    </tr>\n",
       "    <tr>\n",
       "      <td>1</td>\n",
       "      <td>0.681109</td>\n",
       "      <td>-3.934776</td>\n",
       "      <td>-3.801827</td>\n",
       "      <td>-1.147468</td>\n",
       "      <td>-0.735540</td>\n",
       "      <td>-0.501097</td>\n",
       "      <td>1.038865</td>\n",
       "      <td>-0.626979</td>\n",
       "      <td>-2.274423</td>\n",
       "      <td>1.527782</td>\n",
       "      <td>-0.007688</td>\n",
       "      <td>-1.087403</td>\n",
       "      <td>-0.720270</td>\n",
       "      <td>0.855185</td>\n",
       "      <td>-1.070011</td>\n",
       "      <td>-0.869661</td>\n",
       "      <td>0.395302</td>\n",
       "      <td>0.635695</td>\n",
       "      <td>0.249401</td>\n",
       "      <td>1.341809</td>\n",
       "      <td>0.652202</td>\n",
       "      <td>0.272684</td>\n",
       "      <td>-0.982151</td>\n",
       "      <td>0.165900</td>\n",
       "      <td>0.360251</td>\n",
       "      <td>0.195321</td>\n",
       "      <td>-0.256273</td>\n",
       "      <td>0.056501</td>\n",
       "      <td>912.00</td>\n",
       "      <td>0</td>\n",
       "    </tr>\n",
       "    <tr>\n",
       "      <td>2</td>\n",
       "      <td>1.140729</td>\n",
       "      <td>0.453484</td>\n",
       "      <td>0.247010</td>\n",
       "      <td>2.383132</td>\n",
       "      <td>0.343287</td>\n",
       "      <td>0.432804</td>\n",
       "      <td>0.093380</td>\n",
       "      <td>0.173310</td>\n",
       "      <td>-0.808999</td>\n",
       "      <td>0.775436</td>\n",
       "      <td>0.726218</td>\n",
       "      <td>0.347648</td>\n",
       "      <td>-0.806752</td>\n",
       "      <td>0.531268</td>\n",
       "      <td>-0.806538</td>\n",
       "      <td>0.154996</td>\n",
       "      <td>-0.319935</td>\n",
       "      <td>-0.335550</td>\n",
       "      <td>-0.648994</td>\n",
       "      <td>-0.232185</td>\n",
       "      <td>-0.003802</td>\n",
       "      <td>0.058556</td>\n",
       "      <td>-0.121177</td>\n",
       "      <td>-0.304215</td>\n",
       "      <td>0.645893</td>\n",
       "      <td>0.122600</td>\n",
       "      <td>-0.012115</td>\n",
       "      <td>-0.005945</td>\n",
       "      <td>1.00</td>\n",
       "      <td>0</td>\n",
       "    </tr>\n",
       "    <tr>\n",
       "      <td>3</td>\n",
       "      <td>-1.107073</td>\n",
       "      <td>-3.298902</td>\n",
       "      <td>-0.184092</td>\n",
       "      <td>-1.795744</td>\n",
       "      <td>2.137564</td>\n",
       "      <td>-1.684992</td>\n",
       "      <td>-2.015606</td>\n",
       "      <td>-0.007181</td>\n",
       "      <td>-0.165760</td>\n",
       "      <td>0.869659</td>\n",
       "      <td>-1.027847</td>\n",
       "      <td>-3.220699</td>\n",
       "      <td>3.007008</td>\n",
       "      <td>0.794679</td>\n",
       "      <td>-1.504351</td>\n",
       "      <td>-0.380985</td>\n",
       "      <td>0.667344</td>\n",
       "      <td>0.676138</td>\n",
       "      <td>-0.419469</td>\n",
       "      <td>0.348269</td>\n",
       "      <td>0.130648</td>\n",
       "      <td>0.329445</td>\n",
       "      <td>0.927656</td>\n",
       "      <td>-0.049560</td>\n",
       "      <td>-1.892866</td>\n",
       "      <td>-0.575431</td>\n",
       "      <td>0.266573</td>\n",
       "      <td>0.414184</td>\n",
       "      <td>62.10</td>\n",
       "      <td>0</td>\n",
       "    </tr>\n",
       "    <tr>\n",
       "      <td>4</td>\n",
       "      <td>-0.314818</td>\n",
       "      <td>0.866839</td>\n",
       "      <td>-0.124577</td>\n",
       "      <td>-0.627638</td>\n",
       "      <td>2.651762</td>\n",
       "      <td>3.428128</td>\n",
       "      <td>0.194637</td>\n",
       "      <td>0.670674</td>\n",
       "      <td>-0.442658</td>\n",
       "      <td>0.133499</td>\n",
       "      <td>0.148566</td>\n",
       "      <td>-0.474103</td>\n",
       "      <td>-0.011319</td>\n",
       "      <td>-0.410223</td>\n",
       "      <td>1.648979</td>\n",
       "      <td>0.218394</td>\n",
       "      <td>-0.239475</td>\n",
       "      <td>0.422933</td>\n",
       "      <td>1.274986</td>\n",
       "      <td>0.402329</td>\n",
       "      <td>-0.312774</td>\n",
       "      <td>-0.799494</td>\n",
       "      <td>-0.064488</td>\n",
       "      <td>0.953062</td>\n",
       "      <td>-0.429550</td>\n",
       "      <td>0.158225</td>\n",
       "      <td>0.076943</td>\n",
       "      <td>-0.015051</td>\n",
       "      <td>2.67</td>\n",
       "      <td>0</td>\n",
       "    </tr>\n",
       "  </tbody>\n",
       "</table>\n",
       "</div>"
      ],
      "text/plain": [
       "         V1        V2        V3        V4        V5        V6        V7  \\\n",
       "0  1.176563  0.323798  0.536927  1.047002 -0.368652 -0.728586  0.084678   \n",
       "1  0.681109 -3.934776 -3.801827 -1.147468 -0.735540 -0.501097  1.038865   \n",
       "2  1.140729  0.453484  0.247010  2.383132  0.343287  0.432804  0.093380   \n",
       "3 -1.107073 -3.298902 -0.184092 -1.795744  2.137564 -1.684992 -2.015606   \n",
       "4 -0.314818  0.866839 -0.124577 -0.627638  2.651762  3.428128  0.194637   \n",
       "\n",
       "         V8        V9       V10       V11       V12       V13       V14  \\\n",
       "0 -0.069246 -0.266389  0.155315  1.535776  1.019947 -0.096511  0.573023   \n",
       "1 -0.626979 -2.274423  1.527782 -0.007688 -1.087403 -0.720270  0.855185   \n",
       "2  0.173310 -0.808999  0.775436  0.726218  0.347648 -0.806752  0.531268   \n",
       "3 -0.007181 -0.165760  0.869659 -1.027847 -3.220699  3.007008  0.794679   \n",
       "4  0.670674 -0.442658  0.133499  0.148566 -0.474103 -0.011319 -0.410223   \n",
       "\n",
       "        V15       V16       V17       V18       V19       V20       V21  \\\n",
       "0  0.215214  0.265249 -0.612064  0.093821 -0.064890 -0.137258 -0.109627   \n",
       "1 -1.070011 -0.869661  0.395302  0.635695  0.249401  1.341809  0.652202   \n",
       "2 -0.806538  0.154996 -0.319935 -0.335550 -0.648994 -0.232185 -0.003802   \n",
       "3 -1.504351 -0.380985  0.667344  0.676138 -0.419469  0.348269  0.130648   \n",
       "4  1.648979  0.218394 -0.239475  0.422933  1.274986  0.402329 -0.312774   \n",
       "\n",
       "        V22       V23       V24       V25       V26       V27       V28  \\\n",
       "0 -0.341365  0.057845  0.499180  0.415211 -0.581949  0.015472  0.018065   \n",
       "1  0.272684 -0.982151  0.165900  0.360251  0.195321 -0.256273  0.056501   \n",
       "2  0.058556 -0.121177 -0.304215  0.645893  0.122600 -0.012115 -0.005945   \n",
       "3  0.329445  0.927656 -0.049560 -1.892866 -0.575431  0.266573  0.414184   \n",
       "4 -0.799494 -0.064488  0.953062 -0.429550  0.158225  0.076943 -0.015051   \n",
       "\n",
       "   Amount  Class  \n",
       "0    4.67      0  \n",
       "1  912.00      0  \n",
       "2    1.00      0  \n",
       "3   62.10      0  \n",
       "4    2.67      0  "
      ]
     },
     "execution_count": 5,
     "metadata": {},
     "output_type": "execute_result"
    }
   ],
   "source": [
    "#check the first few observations in the data\n",
    "pd.set_option('display.max_columns', None)\n",
    "fraud.head()"
   ]
  },
  {
   "cell_type": "code",
   "execution_count": 6,
   "metadata": {},
   "outputs": [
    {
     "data": {
      "text/html": [
       "<div>\n",
       "<style scoped>\n",
       "    .dataframe tbody tr th:only-of-type {\n",
       "        vertical-align: middle;\n",
       "    }\n",
       "\n",
       "    .dataframe tbody tr th {\n",
       "        vertical-align: top;\n",
       "    }\n",
       "\n",
       "    .dataframe thead th {\n",
       "        text-align: right;\n",
       "    }\n",
       "</style>\n",
       "<table border=\"1\" class=\"dataframe\">\n",
       "  <thead>\n",
       "    <tr style=\"text-align: right;\">\n",
       "      <th></th>\n",
       "      <th>V1</th>\n",
       "      <th>V2</th>\n",
       "      <th>V3</th>\n",
       "      <th>V4</th>\n",
       "      <th>V5</th>\n",
       "      <th>V6</th>\n",
       "      <th>V7</th>\n",
       "      <th>V8</th>\n",
       "      <th>V9</th>\n",
       "      <th>V10</th>\n",
       "      <th>V11</th>\n",
       "      <th>V12</th>\n",
       "      <th>V13</th>\n",
       "      <th>V14</th>\n",
       "      <th>V15</th>\n",
       "      <th>V16</th>\n",
       "      <th>V17</th>\n",
       "      <th>V18</th>\n",
       "      <th>V19</th>\n",
       "      <th>V20</th>\n",
       "      <th>V21</th>\n",
       "      <th>V22</th>\n",
       "      <th>V23</th>\n",
       "      <th>V24</th>\n",
       "      <th>V25</th>\n",
       "      <th>V26</th>\n",
       "      <th>V27</th>\n",
       "      <th>V28</th>\n",
       "      <th>Amount</th>\n",
       "      <th>Class</th>\n",
       "    </tr>\n",
       "  </thead>\n",
       "  <tbody>\n",
       "    <tr>\n",
       "      <td>count</td>\n",
       "      <td>21693.000000</td>\n",
       "      <td>21693.000000</td>\n",
       "      <td>21693.000000</td>\n",
       "      <td>21693.000000</td>\n",
       "      <td>21693.000000</td>\n",
       "      <td>21693.000000</td>\n",
       "      <td>21693.000000</td>\n",
       "      <td>21693.000000</td>\n",
       "      <td>21693.000000</td>\n",
       "      <td>21693.000000</td>\n",
       "      <td>21693.000000</td>\n",
       "      <td>21693.000000</td>\n",
       "      <td>21693.000000</td>\n",
       "      <td>21693.000000</td>\n",
       "      <td>21693.000000</td>\n",
       "      <td>21693.000000</td>\n",
       "      <td>21693.000000</td>\n",
       "      <td>21693.000000</td>\n",
       "      <td>21693.000000</td>\n",
       "      <td>21693.000000</td>\n",
       "      <td>21693.000000</td>\n",
       "      <td>21693.000000</td>\n",
       "      <td>21693.000000</td>\n",
       "      <td>21693.000000</td>\n",
       "      <td>21693.000000</td>\n",
       "      <td>21693.000000</td>\n",
       "      <td>21693.000000</td>\n",
       "      <td>21693.000000</td>\n",
       "      <td>21693.000000</td>\n",
       "      <td>21693.000000</td>\n",
       "    </tr>\n",
       "    <tr>\n",
       "      <td>mean</td>\n",
       "      <td>-0.032403</td>\n",
       "      <td>0.047565</td>\n",
       "      <td>-0.091623</td>\n",
       "      <td>0.057805</td>\n",
       "      <td>-0.033983</td>\n",
       "      <td>-0.023207</td>\n",
       "      <td>-0.074203</td>\n",
       "      <td>0.002096</td>\n",
       "      <td>-0.044311</td>\n",
       "      <td>-0.091073</td>\n",
       "      <td>0.067173</td>\n",
       "      <td>-0.094268</td>\n",
       "      <td>-0.000667</td>\n",
       "      <td>-0.091499</td>\n",
       "      <td>-0.003917</td>\n",
       "      <td>-0.055079</td>\n",
       "      <td>-0.098357</td>\n",
       "      <td>-0.033488</td>\n",
       "      <td>0.021861</td>\n",
       "      <td>-0.001762</td>\n",
       "      <td>0.012471</td>\n",
       "      <td>0.003743</td>\n",
       "      <td>-0.001662</td>\n",
       "      <td>-0.002446</td>\n",
       "      <td>-0.000406</td>\n",
       "      <td>0.002367</td>\n",
       "      <td>0.001514</td>\n",
       "      <td>0.003203</td>\n",
       "      <td>86.776247</td>\n",
       "      <td>0.016411</td>\n",
       "    </tr>\n",
       "    <tr>\n",
       "      <td>std</td>\n",
       "      <td>2.106997</td>\n",
       "      <td>1.690911</td>\n",
       "      <td>1.870289</td>\n",
       "      <td>1.540329</td>\n",
       "      <td>1.530508</td>\n",
       "      <td>1.340599</td>\n",
       "      <td>1.596775</td>\n",
       "      <td>1.412650</td>\n",
       "      <td>1.158554</td>\n",
       "      <td>1.354886</td>\n",
       "      <td>1.154227</td>\n",
       "      <td>1.364933</td>\n",
       "      <td>0.989655</td>\n",
       "      <td>1.356199</td>\n",
       "      <td>0.916582</td>\n",
       "      <td>1.096472</td>\n",
       "      <td>1.424975</td>\n",
       "      <td>0.936769</td>\n",
       "      <td>0.843902</td>\n",
       "      <td>0.727979</td>\n",
       "      <td>0.850009</td>\n",
       "      <td>0.741348</td>\n",
       "      <td>0.629987</td>\n",
       "      <td>0.600144</td>\n",
       "      <td>0.520949</td>\n",
       "      <td>0.478279</td>\n",
       "      <td>0.424688</td>\n",
       "      <td>0.302048</td>\n",
       "      <td>235.644479</td>\n",
       "      <td>0.127052</td>\n",
       "    </tr>\n",
       "    <tr>\n",
       "      <td>min</td>\n",
       "      <td>-41.928738</td>\n",
       "      <td>-40.803981</td>\n",
       "      <td>-31.103685</td>\n",
       "      <td>-4.848504</td>\n",
       "      <td>-32.092129</td>\n",
       "      <td>-20.367836</td>\n",
       "      <td>-41.506796</td>\n",
       "      <td>-38.987263</td>\n",
       "      <td>-13.434066</td>\n",
       "      <td>-24.403185</td>\n",
       "      <td>-3.995739</td>\n",
       "      <td>-18.553697</td>\n",
       "      <td>-3.844974</td>\n",
       "      <td>-19.214325</td>\n",
       "      <td>-4.498945</td>\n",
       "      <td>-14.129855</td>\n",
       "      <td>-24.019099</td>\n",
       "      <td>-9.498746</td>\n",
       "      <td>-4.395283</td>\n",
       "      <td>-21.024817</td>\n",
       "      <td>-21.453736</td>\n",
       "      <td>-8.887017</td>\n",
       "      <td>-21.303666</td>\n",
       "      <td>-2.766638</td>\n",
       "      <td>-4.541819</td>\n",
       "      <td>-1.855355</td>\n",
       "      <td>-7.764147</td>\n",
       "      <td>-6.520075</td>\n",
       "      <td>0.000000</td>\n",
       "      <td>0.000000</td>\n",
       "    </tr>\n",
       "    <tr>\n",
       "      <td>25%</td>\n",
       "      <td>-0.929371</td>\n",
       "      <td>-0.592921</td>\n",
       "      <td>-0.962975</td>\n",
       "      <td>-0.850069</td>\n",
       "      <td>-0.698296</td>\n",
       "      <td>-0.779041</td>\n",
       "      <td>-0.565297</td>\n",
       "      <td>-0.205943</td>\n",
       "      <td>-0.669752</td>\n",
       "      <td>-0.554596</td>\n",
       "      <td>-0.739193</td>\n",
       "      <td>-0.438730</td>\n",
       "      <td>-0.634030</td>\n",
       "      <td>-0.438416</td>\n",
       "      <td>-0.582193</td>\n",
       "      <td>-0.492689</td>\n",
       "      <td>-0.498984</td>\n",
       "      <td>-0.513216</td>\n",
       "      <td>-0.444441</td>\n",
       "      <td>-0.209710</td>\n",
       "      <td>-0.225142</td>\n",
       "      <td>-0.538258</td>\n",
       "      <td>-0.162395</td>\n",
       "      <td>-0.356356</td>\n",
       "      <td>-0.317296</td>\n",
       "      <td>-0.326141</td>\n",
       "      <td>-0.069938</td>\n",
       "      <td>-0.053334</td>\n",
       "      <td>5.370000</td>\n",
       "      <td>0.000000</td>\n",
       "    </tr>\n",
       "    <tr>\n",
       "      <td>50%</td>\n",
       "      <td>0.007545</td>\n",
       "      <td>0.075215</td>\n",
       "      <td>0.176534</td>\n",
       "      <td>-0.012868</td>\n",
       "      <td>-0.063948</td>\n",
       "      <td>-0.281565</td>\n",
       "      <td>0.030859</td>\n",
       "      <td>0.023159</td>\n",
       "      <td>-0.073996</td>\n",
       "      <td>-0.099291</td>\n",
       "      <td>0.005596</td>\n",
       "      <td>0.126666</td>\n",
       "      <td>-0.018642</td>\n",
       "      <td>0.044870</td>\n",
       "      <td>0.048753</td>\n",
       "      <td>0.059504</td>\n",
       "      <td>-0.075797</td>\n",
       "      <td>-0.019269</td>\n",
       "      <td>0.021719</td>\n",
       "      <td>-0.057330</td>\n",
       "      <td>-0.024133</td>\n",
       "      <td>0.007273</td>\n",
       "      <td>-0.012327</td>\n",
       "      <td>0.036878</td>\n",
       "      <td>0.011561</td>\n",
       "      <td>-0.044870</td>\n",
       "      <td>0.002475</td>\n",
       "      <td>0.011765</td>\n",
       "      <td>21.950000</td>\n",
       "      <td>0.000000</td>\n",
       "    </tr>\n",
       "    <tr>\n",
       "      <td>75%</td>\n",
       "      <td>1.315678</td>\n",
       "      <td>0.819749</td>\n",
       "      <td>1.020809</td>\n",
       "      <td>0.772388</td>\n",
       "      <td>0.615287</td>\n",
       "      <td>0.383633</td>\n",
       "      <td>0.563751</td>\n",
       "      <td>0.328411</td>\n",
       "      <td>0.590212</td>\n",
       "      <td>0.445474</td>\n",
       "      <td>0.786044</td>\n",
       "      <td>0.613676</td>\n",
       "      <td>0.652241</td>\n",
       "      <td>0.490003</td>\n",
       "      <td>0.642463</td>\n",
       "      <td>0.525327</td>\n",
       "      <td>0.389992</td>\n",
       "      <td>0.494700</td>\n",
       "      <td>0.484930</td>\n",
       "      <td>0.139059</td>\n",
       "      <td>0.192954</td>\n",
       "      <td>0.530333</td>\n",
       "      <td>0.146616</td>\n",
       "      <td>0.431931</td>\n",
       "      <td>0.354043</td>\n",
       "      <td>0.238629</td>\n",
       "      <td>0.095859</td>\n",
       "      <td>0.081749</td>\n",
       "      <td>76.480000</td>\n",
       "      <td>0.000000</td>\n",
       "    </tr>\n",
       "    <tr>\n",
       "      <td>max</td>\n",
       "      <td>2.451888</td>\n",
       "      <td>21.467203</td>\n",
       "      <td>4.069865</td>\n",
       "      <td>12.114672</td>\n",
       "      <td>29.162172</td>\n",
       "      <td>21.393069</td>\n",
       "      <td>34.303177</td>\n",
       "      <td>20.007208</td>\n",
       "      <td>9.125535</td>\n",
       "      <td>12.701538</td>\n",
       "      <td>12.018913</td>\n",
       "      <td>3.966626</td>\n",
       "      <td>4.099352</td>\n",
       "      <td>6.441021</td>\n",
       "      <td>5.720479</td>\n",
       "      <td>6.442798</td>\n",
       "      <td>6.609366</td>\n",
       "      <td>3.790316</td>\n",
       "      <td>4.851255</td>\n",
       "      <td>13.119819</td>\n",
       "      <td>27.202839</td>\n",
       "      <td>8.361985</td>\n",
       "      <td>15.626067</td>\n",
       "      <td>4.014444</td>\n",
       "      <td>5.541598</td>\n",
       "      <td>3.463246</td>\n",
       "      <td>9.879903</td>\n",
       "      <td>9.876371</td>\n",
       "      <td>7712.430000</td>\n",
       "      <td>1.000000</td>\n",
       "    </tr>\n",
       "  </tbody>\n",
       "</table>\n",
       "</div>"
      ],
      "text/plain": [
       "                 V1            V2            V3            V4            V5  \\\n",
       "count  21693.000000  21693.000000  21693.000000  21693.000000  21693.000000   \n",
       "mean      -0.032403      0.047565     -0.091623      0.057805     -0.033983   \n",
       "std        2.106997      1.690911      1.870289      1.540329      1.530508   \n",
       "min      -41.928738    -40.803981    -31.103685     -4.848504    -32.092129   \n",
       "25%       -0.929371     -0.592921     -0.962975     -0.850069     -0.698296   \n",
       "50%        0.007545      0.075215      0.176534     -0.012868     -0.063948   \n",
       "75%        1.315678      0.819749      1.020809      0.772388      0.615287   \n",
       "max        2.451888     21.467203      4.069865     12.114672     29.162172   \n",
       "\n",
       "                 V6            V7            V8            V9           V10  \\\n",
       "count  21693.000000  21693.000000  21693.000000  21693.000000  21693.000000   \n",
       "mean      -0.023207     -0.074203      0.002096     -0.044311     -0.091073   \n",
       "std        1.340599      1.596775      1.412650      1.158554      1.354886   \n",
       "min      -20.367836    -41.506796    -38.987263    -13.434066    -24.403185   \n",
       "25%       -0.779041     -0.565297     -0.205943     -0.669752     -0.554596   \n",
       "50%       -0.281565      0.030859      0.023159     -0.073996     -0.099291   \n",
       "75%        0.383633      0.563751      0.328411      0.590212      0.445474   \n",
       "max       21.393069     34.303177     20.007208      9.125535     12.701538   \n",
       "\n",
       "                V11           V12           V13           V14           V15  \\\n",
       "count  21693.000000  21693.000000  21693.000000  21693.000000  21693.000000   \n",
       "mean       0.067173     -0.094268     -0.000667     -0.091499     -0.003917   \n",
       "std        1.154227      1.364933      0.989655      1.356199      0.916582   \n",
       "min       -3.995739    -18.553697     -3.844974    -19.214325     -4.498945   \n",
       "25%       -0.739193     -0.438730     -0.634030     -0.438416     -0.582193   \n",
       "50%        0.005596      0.126666     -0.018642      0.044870      0.048753   \n",
       "75%        0.786044      0.613676      0.652241      0.490003      0.642463   \n",
       "max       12.018913      3.966626      4.099352      6.441021      5.720479   \n",
       "\n",
       "                V16           V17           V18           V19           V20  \\\n",
       "count  21693.000000  21693.000000  21693.000000  21693.000000  21693.000000   \n",
       "mean      -0.055079     -0.098357     -0.033488      0.021861     -0.001762   \n",
       "std        1.096472      1.424975      0.936769      0.843902      0.727979   \n",
       "min      -14.129855    -24.019099     -9.498746     -4.395283    -21.024817   \n",
       "25%       -0.492689     -0.498984     -0.513216     -0.444441     -0.209710   \n",
       "50%        0.059504     -0.075797     -0.019269      0.021719     -0.057330   \n",
       "75%        0.525327      0.389992      0.494700      0.484930      0.139059   \n",
       "max        6.442798      6.609366      3.790316      4.851255     13.119819   \n",
       "\n",
       "                V21           V22           V23           V24           V25  \\\n",
       "count  21693.000000  21693.000000  21693.000000  21693.000000  21693.000000   \n",
       "mean       0.012471      0.003743     -0.001662     -0.002446     -0.000406   \n",
       "std        0.850009      0.741348      0.629987      0.600144      0.520949   \n",
       "min      -21.453736     -8.887017    -21.303666     -2.766638     -4.541819   \n",
       "25%       -0.225142     -0.538258     -0.162395     -0.356356     -0.317296   \n",
       "50%       -0.024133      0.007273     -0.012327      0.036878      0.011561   \n",
       "75%        0.192954      0.530333      0.146616      0.431931      0.354043   \n",
       "max       27.202839      8.361985     15.626067      4.014444      5.541598   \n",
       "\n",
       "                V26           V27           V28        Amount         Class  \n",
       "count  21693.000000  21693.000000  21693.000000  21693.000000  21693.000000  \n",
       "mean       0.002367      0.001514      0.003203     86.776247      0.016411  \n",
       "std        0.478279      0.424688      0.302048    235.644479      0.127052  \n",
       "min       -1.855355     -7.764147     -6.520075      0.000000      0.000000  \n",
       "25%       -0.326141     -0.069938     -0.053334      5.370000      0.000000  \n",
       "50%       -0.044870      0.002475      0.011765     21.950000      0.000000  \n",
       "75%        0.238629      0.095859      0.081749     76.480000      0.000000  \n",
       "max        3.463246      9.879903      9.876371   7712.430000      1.000000  "
      ]
     },
     "execution_count": 6,
     "metadata": {},
     "output_type": "execute_result"
    }
   ],
   "source": [
    "# Statistical Analysis of the data\n",
    "fraud.describe(include='all')"
   ]
  },
  {
   "cell_type": "code",
   "execution_count": 7,
   "metadata": {},
   "outputs": [
    {
     "data": {
      "text/plain": [
       "V1        0\n",
       "V2        0\n",
       "V3        0\n",
       "V4        0\n",
       "V5        0\n",
       "V6        0\n",
       "V7        0\n",
       "V8        0\n",
       "V9        0\n",
       "V10       0\n",
       "V11       0\n",
       "V12       0\n",
       "V13       0\n",
       "V14       0\n",
       "V15       0\n",
       "V16       0\n",
       "V17       0\n",
       "V18       0\n",
       "V19       0\n",
       "V20       0\n",
       "V21       0\n",
       "V22       0\n",
       "V23       0\n",
       "V24       0\n",
       "V25       0\n",
       "V26       0\n",
       "V27       0\n",
       "V28       0\n",
       "Amount    0\n",
       "Class     0\n",
       "dtype: int64"
      ]
     },
     "execution_count": 7,
     "metadata": {},
     "output_type": "execute_result"
    }
   ],
   "source": [
    "#Checking null values\n",
    "fraud.isnull().sum()"
   ]
  },
  {
   "cell_type": "code",
   "execution_count": 8,
   "metadata": {},
   "outputs": [],
   "source": [
    "# There is no null value in the dataset"
   ]
  },
  {
   "cell_type": "code",
   "execution_count": 9,
   "metadata": {},
   "outputs": [
    {
     "data": {
      "text/plain": [
       "143"
      ]
     },
     "execution_count": 9,
     "metadata": {},
     "output_type": "execute_result"
    }
   ],
   "source": [
    "# Checking for duplicate values\n",
    "fraud.duplicated().sum()"
   ]
  },
  {
   "cell_type": "code",
   "execution_count": 10,
   "metadata": {},
   "outputs": [],
   "source": [
    "# There are 143 duplicated values to be dropped"
   ]
  },
  {
   "cell_type": "code",
   "execution_count": 11,
   "metadata": {},
   "outputs": [],
   "source": [
    "# Dropping the duplicates while keeping the first occurence and\n",
    "fraud.drop_duplicates(keep='first', inplace=True)"
   ]
  },
  {
   "cell_type": "code",
   "execution_count": 12,
   "metadata": {},
   "outputs": [
    {
     "data": {
      "text/plain": [
       "0"
      ]
     },
     "execution_count": 12,
     "metadata": {},
     "output_type": "execute_result"
    }
   ],
   "source": [
    "fraud.duplicated().sum()"
   ]
  },
  {
   "cell_type": "code",
   "execution_count": 13,
   "metadata": {
    "scrolled": true
   },
   "outputs": [
    {
     "data": {
      "text/plain": [
       "(21550, 30)"
      ]
     },
     "execution_count": 13,
     "metadata": {},
     "output_type": "execute_result"
    }
   ],
   "source": [
    "fraud.shape"
   ]
  },
  {
   "cell_type": "code",
   "execution_count": 14,
   "metadata": {},
   "outputs": [
    {
     "data": {
      "text/plain": [
       "0    21204\n",
       "1      346\n",
       "Name: Class, dtype: int64"
      ]
     },
     "execution_count": 14,
     "metadata": {},
     "output_type": "execute_result"
    }
   ],
   "source": [
    "fraud.Class.value_counts()"
   ]
  },
  {
   "cell_type": "code",
   "execution_count": 15,
   "metadata": {
    "scrolled": false
   },
   "outputs": [],
   "source": [
    "# As seen above this is an imbalance data with just 346 fraud cases out of 21550 total transactions"
   ]
  },
  {
   "cell_type": "code",
   "execution_count": 16,
   "metadata": {},
   "outputs": [
    {
     "data": {
      "text/plain": [
       "<matplotlib.axes._subplots.AxesSubplot at 0x1b3e6f4b208>"
      ]
     },
     "execution_count": 16,
     "metadata": {},
     "output_type": "execute_result"
    },
    {
     "data": {
      "image/png": "[encoded data removed]",
      "text/plain": [
       "<Figure size 432x288 with 1 Axes>"
      ]
     },
     "metadata": {
      "needs_background": "light"
     },
     "output_type": "display_data"
    }
   ],
   "source": [
    "fraud['Amount'].plot(kind='hist')"
   ]
  },
  {
   "cell_type": "code",
   "execution_count": 17,
   "metadata": {
    "scrolled": true
   },
   "outputs": [
    {
     "data": {
      "image/png": "[encoded data removed]",
      "text/plain": [
       "<Figure size 1296x864 with 2 Axes>"
      ]
     },
     "metadata": {
      "needs_background": "light"
     },
     "output_type": "display_data"
    }
   ],
   "source": [
    "f,ax=plt.subplots(figsize=(18,12))\n",
    "sns.heatmap(fraud.corr(),annot=True,linewidth=.5,fmt='.1f',ax=ax)\n",
    "plt.show()"
   ]
  },
  {
   "cell_type": "code",
   "execution_count": 18,
   "metadata": {},
   "outputs": [],
   "source": [
    "X = fraud.drop(['Class'], axis=1)\n",
    "y = fraud.Class"
   ]
  },
  {
   "cell_type": "code",
   "execution_count": 19,
   "metadata": {},
   "outputs": [],
   "source": [
    "from sklearn.model_selection import train_test_split\n",
    "X_train, X_test, y_train, y_test = train_test_split(X, y, test_size=0.33, random_state=42)"
   ]
  },
  {
   "cell_type": "code",
   "execution_count": 20,
   "metadata": {},
   "outputs": [
    {
     "data": {
      "text/html": [
       "<div>\n",
       "<style scoped>\n",
       "    .dataframe tbody tr th:only-of-type {\n",
       "        vertical-align: middle;\n",
       "    }\n",
       "\n",
       "    .dataframe tbody tr th {\n",
       "        vertical-align: top;\n",
       "    }\n",
       "\n",
       "    .dataframe thead th {\n",
       "        text-align: right;\n",
       "    }\n",
       "</style>\n",
       "<table border=\"1\" class=\"dataframe\">\n",
       "  <thead>\n",
       "    <tr style=\"text-align: right;\">\n",
       "      <th></th>\n",
       "      <th>V1</th>\n",
       "      <th>V2</th>\n",
       "      <th>V3</th>\n",
       "      <th>V4</th>\n",
       "      <th>V5</th>\n",
       "      <th>V6</th>\n",
       "      <th>V7</th>\n",
       "      <th>V8</th>\n",
       "      <th>V9</th>\n",
       "      <th>V10</th>\n",
       "      <th>V11</th>\n",
       "      <th>V12</th>\n",
       "      <th>V13</th>\n",
       "      <th>V14</th>\n",
       "      <th>V15</th>\n",
       "      <th>V16</th>\n",
       "      <th>V17</th>\n",
       "      <th>V18</th>\n",
       "      <th>V19</th>\n",
       "      <th>V20</th>\n",
       "      <th>V21</th>\n",
       "      <th>V22</th>\n",
       "      <th>V23</th>\n",
       "      <th>V24</th>\n",
       "      <th>V25</th>\n",
       "      <th>V26</th>\n",
       "      <th>V27</th>\n",
       "      <th>V28</th>\n",
       "      <th>Amount</th>\n",
       "    </tr>\n",
       "  </thead>\n",
       "  <tbody>\n",
       "    <tr>\n",
       "      <td>4420</td>\n",
       "      <td>-0.549661</td>\n",
       "      <td>-0.318216</td>\n",
       "      <td>-0.454299</td>\n",
       "      <td>-2.738805</td>\n",
       "      <td>1.615356</td>\n",
       "      <td>1.096961</td>\n",
       "      <td>0.686688</td>\n",
       "      <td>0.496484</td>\n",
       "      <td>0.703111</td>\n",
       "      <td>-1.420887</td>\n",
       "      <td>0.043539</td>\n",
       "      <td>0.039633</td>\n",
       "      <td>-1.967973</td>\n",
       "      <td>0.484585</td>\n",
       "      <td>-1.219556</td>\n",
       "      <td>-0.757860</td>\n",
       "      <td>-0.067171</td>\n",
       "      <td>-0.888771</td>\n",
       "      <td>-1.230995</td>\n",
       "      <td>-0.263392</td>\n",
       "      <td>0.369474</td>\n",
       "      <td>1.080352</td>\n",
       "      <td>-0.047033</td>\n",
       "      <td>-0.896342</td>\n",
       "      <td>-0.503328</td>\n",
       "      <td>0.649749</td>\n",
       "      <td>0.108960</td>\n",
       "      <td>0.169252</td>\n",
       "      <td>65.10</td>\n",
       "    </tr>\n",
       "    <tr>\n",
       "      <td>1801</td>\n",
       "      <td>-2.852918</td>\n",
       "      <td>-8.078339</td>\n",
       "      <td>-4.238958</td>\n",
       "      <td>2.634421</td>\n",
       "      <td>-2.372357</td>\n",
       "      <td>-0.325647</td>\n",
       "      <td>3.790409</td>\n",
       "      <td>-1.064451</td>\n",
       "      <td>0.038315</td>\n",
       "      <td>-1.064688</td>\n",
       "      <td>-0.680776</td>\n",
       "      <td>0.595440</td>\n",
       "      <td>0.615493</td>\n",
       "      <td>0.952911</td>\n",
       "      <td>0.209619</td>\n",
       "      <td>-0.070554</td>\n",
       "      <td>-0.105378</td>\n",
       "      <td>-0.384206</td>\n",
       "      <td>-0.803307</td>\n",
       "      <td>4.950307</td>\n",
       "      <td>1.424039</td>\n",
       "      <td>-1.502738</td>\n",
       "      <td>-2.057312</td>\n",
       "      <td>0.146545</td>\n",
       "      <td>-0.932034</td>\n",
       "      <td>-0.045874</td>\n",
       "      <td>-0.550519</td>\n",
       "      <td>0.376198</td>\n",
       "      <td>2549.00</td>\n",
       "    </tr>\n",
       "    <tr>\n",
       "      <td>7224</td>\n",
       "      <td>-3.419188</td>\n",
       "      <td>-2.026462</td>\n",
       "      <td>-1.507912</td>\n",
       "      <td>-0.895527</td>\n",
       "      <td>-2.561974</td>\n",
       "      <td>3.319588</td>\n",
       "      <td>3.137491</td>\n",
       "      <td>-1.156004</td>\n",
       "      <td>1.045842</td>\n",
       "      <td>2.462194</td>\n",
       "      <td>0.887117</td>\n",
       "      <td>-0.489248</td>\n",
       "      <td>-0.841422</td>\n",
       "      <td>-1.251338</td>\n",
       "      <td>0.388374</td>\n",
       "      <td>-1.734793</td>\n",
       "      <td>-0.148292</td>\n",
       "      <td>-0.150307</td>\n",
       "      <td>-0.577783</td>\n",
       "      <td>-2.904052</td>\n",
       "      <td>-1.586334</td>\n",
       "      <td>-1.047005</td>\n",
       "      <td>0.365648</td>\n",
       "      <td>-1.607278</td>\n",
       "      <td>-1.199722</td>\n",
       "      <td>0.054853</td>\n",
       "      <td>-2.149951</td>\n",
       "      <td>0.856058</td>\n",
       "      <td>647.38</td>\n",
       "    </tr>\n",
       "    <tr>\n",
       "      <td>20340</td>\n",
       "      <td>-0.112836</td>\n",
       "      <td>-0.711381</td>\n",
       "      <td>0.382146</td>\n",
       "      <td>-3.615175</td>\n",
       "      <td>1.643598</td>\n",
       "      <td>3.306478</td>\n",
       "      <td>-0.705411</td>\n",
       "      <td>0.677779</td>\n",
       "      <td>-2.238458</td>\n",
       "      <td>1.039526</td>\n",
       "      <td>-0.380501</td>\n",
       "      <td>-1.366907</td>\n",
       "      <td>0.357539</td>\n",
       "      <td>-0.583658</td>\n",
       "      <td>0.273785</td>\n",
       "      <td>0.206999</td>\n",
       "      <td>-0.449842</td>\n",
       "      <td>0.431083</td>\n",
       "      <td>-0.431024</td>\n",
       "      <td>-0.146145</td>\n",
       "      <td>-0.356539</td>\n",
       "      <td>-0.735055</td>\n",
       "      <td>0.007142</td>\n",
       "      <td>0.932434</td>\n",
       "      <td>-0.387764</td>\n",
       "      <td>-0.628358</td>\n",
       "      <td>-0.016036</td>\n",
       "      <td>-0.080708</td>\n",
       "      <td>10.00</td>\n",
       "    </tr>\n",
       "    <tr>\n",
       "      <td>2392</td>\n",
       "      <td>1.948561</td>\n",
       "      <td>-0.530408</td>\n",
       "      <td>-0.327914</td>\n",
       "      <td>0.290380</td>\n",
       "      <td>-0.597855</td>\n",
       "      <td>0.110880</td>\n",
       "      <td>-0.827718</td>\n",
       "      <td>0.195481</td>\n",
       "      <td>1.032553</td>\n",
       "      <td>0.176853</td>\n",
       "      <td>0.683839</td>\n",
       "      <td>0.872474</td>\n",
       "      <td>-0.201526</td>\n",
       "      <td>-0.021894</td>\n",
       "      <td>-0.282091</td>\n",
       "      <td>0.542547</td>\n",
       "      <td>-0.727222</td>\n",
       "      <td>0.546566</td>\n",
       "      <td>0.021249</td>\n",
       "      <td>-0.166110</td>\n",
       "      <td>0.207618</td>\n",
       "      <td>0.730648</td>\n",
       "      <td>0.194229</td>\n",
       "      <td>0.813850</td>\n",
       "      <td>-0.307524</td>\n",
       "      <td>0.513357</td>\n",
       "      <td>-0.029960</td>\n",
       "      <td>-0.049713</td>\n",
       "      <td>11.49</td>\n",
       "    </tr>\n",
       "    <tr>\n",
       "      <td>...</td>\n",
       "      <td>...</td>\n",
       "      <td>...</td>\n",
       "      <td>...</td>\n",
       "      <td>...</td>\n",
       "      <td>...</td>\n",
       "      <td>...</td>\n",
       "      <td>...</td>\n",
       "      <td>...</td>\n",
       "      <td>...</td>\n",
       "      <td>...</td>\n",
       "      <td>...</td>\n",
       "      <td>...</td>\n",
       "      <td>...</td>\n",
       "      <td>...</td>\n",
       "      <td>...</td>\n",
       "      <td>...</td>\n",
       "      <td>...</td>\n",
       "      <td>...</td>\n",
       "      <td>...</td>\n",
       "      <td>...</td>\n",
       "      <td>...</td>\n",
       "      <td>...</td>\n",
       "      <td>...</td>\n",
       "      <td>...</td>\n",
       "      <td>...</td>\n",
       "      <td>...</td>\n",
       "      <td>...</td>\n",
       "      <td>...</td>\n",
       "      <td>...</td>\n",
       "    </tr>\n",
       "    <tr>\n",
       "      <td>11326</td>\n",
       "      <td>0.971560</td>\n",
       "      <td>-0.406152</td>\n",
       "      <td>0.958895</td>\n",
       "      <td>0.576502</td>\n",
       "      <td>-0.064680</td>\n",
       "      <td>1.965807</td>\n",
       "      <td>-0.885168</td>\n",
       "      <td>0.647556</td>\n",
       "      <td>0.823617</td>\n",
       "      <td>-0.464336</td>\n",
       "      <td>0.029921</td>\n",
       "      <td>1.087510</td>\n",
       "      <td>0.771131</td>\n",
       "      <td>-0.448500</td>\n",
       "      <td>1.238262</td>\n",
       "      <td>-1.029458</td>\n",
       "      <td>0.857658</td>\n",
       "      <td>-2.147546</td>\n",
       "      <td>-1.468941</td>\n",
       "      <td>-0.126796</td>\n",
       "      <td>0.028035</td>\n",
       "      <td>0.406071</td>\n",
       "      <td>0.083490</td>\n",
       "      <td>-1.252695</td>\n",
       "      <td>0.003249</td>\n",
       "      <td>0.462116</td>\n",
       "      <td>0.087832</td>\n",
       "      <td>0.014933</td>\n",
       "      <td>34.33</td>\n",
       "    </tr>\n",
       "    <tr>\n",
       "      <td>12012</td>\n",
       "      <td>-1.696894</td>\n",
       "      <td>1.655182</td>\n",
       "      <td>0.208533</td>\n",
       "      <td>-0.523985</td>\n",
       "      <td>-1.640357</td>\n",
       "      <td>0.238927</td>\n",
       "      <td>-0.870259</td>\n",
       "      <td>-1.895885</td>\n",
       "      <td>-0.253909</td>\n",
       "      <td>-1.985756</td>\n",
       "      <td>-0.415323</td>\n",
       "      <td>0.348264</td>\n",
       "      <td>-0.805899</td>\n",
       "      <td>1.571236</td>\n",
       "      <td>2.630219</td>\n",
       "      <td>-1.162261</td>\n",
       "      <td>1.225621</td>\n",
       "      <td>0.217518</td>\n",
       "      <td>1.807818</td>\n",
       "      <td>0.445927</td>\n",
       "      <td>-1.015873</td>\n",
       "      <td>1.046120</td>\n",
       "      <td>-0.021348</td>\n",
       "      <td>0.083352</td>\n",
       "      <td>0.373525</td>\n",
       "      <td>-0.297784</td>\n",
       "      <td>-0.196786</td>\n",
       "      <td>-0.054041</td>\n",
       "      <td>129.96</td>\n",
       "    </tr>\n",
       "    <tr>\n",
       "      <td>5406</td>\n",
       "      <td>1.145723</td>\n",
       "      <td>-0.138743</td>\n",
       "      <td>0.935665</td>\n",
       "      <td>0.213245</td>\n",
       "      <td>-0.741670</td>\n",
       "      <td>-0.169951</td>\n",
       "      <td>-0.656526</td>\n",
       "      <td>0.106876</td>\n",
       "      <td>1.555752</td>\n",
       "      <td>-0.376996</td>\n",
       "      <td>2.634339</td>\n",
       "      <td>-1.865861</td>\n",
       "      <td>1.011905</td>\n",
       "      <td>1.839054</td>\n",
       "      <td>0.186884</td>\n",
       "      <td>0.362021</td>\n",
       "      <td>0.432131</td>\n",
       "      <td>0.214071</td>\n",
       "      <td>-0.544358</td>\n",
       "      <td>-0.148855</td>\n",
       "      <td>0.018794</td>\n",
       "      <td>0.280618</td>\n",
       "      <td>0.034849</td>\n",
       "      <td>0.236311</td>\n",
       "      <td>0.055459</td>\n",
       "      <td>1.032465</td>\n",
       "      <td>-0.080719</td>\n",
       "      <td>-0.006971</td>\n",
       "      <td>15.95</td>\n",
       "    </tr>\n",
       "    <tr>\n",
       "      <td>860</td>\n",
       "      <td>-0.407428</td>\n",
       "      <td>0.819890</td>\n",
       "      <td>0.257602</td>\n",
       "      <td>0.371708</td>\n",
       "      <td>2.392176</td>\n",
       "      <td>3.869325</td>\n",
       "      <td>0.234941</td>\n",
       "      <td>0.889302</td>\n",
       "      <td>-1.143551</td>\n",
       "      <td>-0.041770</td>\n",
       "      <td>-0.110414</td>\n",
       "      <td>-0.386750</td>\n",
       "      <td>0.052934</td>\n",
       "      <td>0.514312</td>\n",
       "      <td>1.873885</td>\n",
       "      <td>-0.245739</td>\n",
       "      <td>-0.287915</td>\n",
       "      <td>0.497274</td>\n",
       "      <td>1.885534</td>\n",
       "      <td>0.397243</td>\n",
       "      <td>-0.136634</td>\n",
       "      <td>-0.605978</td>\n",
       "      <td>-0.139050</td>\n",
       "      <td>0.979219</td>\n",
       "      <td>0.343449</td>\n",
       "      <td>-0.238021</td>\n",
       "      <td>0.090831</td>\n",
       "      <td>0.086881</td>\n",
       "      <td>49.99</td>\n",
       "    </tr>\n",
       "    <tr>\n",
       "      <td>15881</td>\n",
       "      <td>0.004592</td>\n",
       "      <td>-0.225363</td>\n",
       "      <td>1.120020</td>\n",
       "      <td>-1.940801</td>\n",
       "      <td>-1.048626</td>\n",
       "      <td>0.476484</td>\n",
       "      <td>-0.314137</td>\n",
       "      <td>0.117149</td>\n",
       "      <td>-0.537703</td>\n",
       "      <td>0.337607</td>\n",
       "      <td>0.889394</td>\n",
       "      <td>0.374542</td>\n",
       "      <td>1.092695</td>\n",
       "      <td>-0.917639</td>\n",
       "      <td>-0.729232</td>\n",
       "      <td>1.712402</td>\n",
       "      <td>-0.470958</td>\n",
       "      <td>-0.511203</td>\n",
       "      <td>0.423536</td>\n",
       "      <td>0.025385</td>\n",
       "      <td>0.364043</td>\n",
       "      <td>0.997873</td>\n",
       "      <td>0.083406</td>\n",
       "      <td>0.793947</td>\n",
       "      <td>-0.667990</td>\n",
       "      <td>-0.408896</td>\n",
       "      <td>-0.144623</td>\n",
       "      <td>-0.006713</td>\n",
       "      <td>90.00</td>\n",
       "    </tr>\n",
       "  </tbody>\n",
       "</table>\n",
       "<p>14438 rows × 29 columns</p>\n",
       "</div>"
      ],
      "text/plain": [
       "             V1        V2        V3        V4        V5        V6        V7  \\\n",
       "4420  -0.549661 -0.318216 -0.454299 -2.738805  1.615356  1.096961  0.686688   \n",
       "1801  -2.852918 -8.078339 -4.238958  2.634421 -2.372357 -0.325647  3.790409   \n",
       "7224  -3.419188 -2.026462 -1.507912 -0.895527 -2.561974  3.319588  3.137491   \n",
       "20340 -0.112836 -0.711381  0.382146 -3.615175  1.643598  3.306478 -0.705411   \n",
       "2392   1.948561 -0.530408 -0.327914  0.290380 -0.597855  0.110880 -0.827718   \n",
       "...         ...       ...       ...       ...       ...       ...       ...   \n",
       "11326  0.971560 -0.406152  0.958895  0.576502 -0.064680  1.965807 -0.885168   \n",
       "12012 -1.696894  1.655182  0.208533 -0.523985 -1.640357  0.238927 -0.870259   \n",
       "5406   1.145723 -0.138743  0.935665  0.213245 -0.741670 -0.169951 -0.656526   \n",
       "860   -0.407428  0.819890  0.257602  0.371708  2.392176  3.869325  0.234941   \n",
       "15881  0.004592 -0.225363  1.120020 -1.940801 -1.048626  0.476484 -0.314137   \n",
       "\n",
       "             V8        V9       V10       V11       V12       V13       V14  \\\n",
       "4420   0.496484  0.703111 -1.420887  0.043539  0.039633 -1.967973  0.484585   \n",
       "1801  -1.064451  0.038315 -1.064688 -0.680776  0.595440  0.615493  0.952911   \n",
       "7224  -1.156004  1.045842  2.462194  0.887117 -0.489248 -0.841422 -1.251338   \n",
       "20340  0.677779 -2.238458  1.039526 -0.380501 -1.366907  0.357539 -0.583658   \n",
       "2392   0.195481  1.032553  0.176853  0.683839  0.872474 -0.201526 -0.021894   \n",
       "...         ...       ...       ...       ...       ...       ...       ...   \n",
       "11326  0.647556  0.823617 -0.464336  0.029921  1.087510  0.771131 -0.448500   \n",
       "12012 -1.895885 -0.253909 -1.985756 -0.415323  0.348264 -0.805899  1.571236   \n",
       "5406   0.106876  1.555752 -0.376996  2.634339 -1.865861  1.011905  1.839054   \n",
       "860    0.889302 -1.143551 -0.041770 -0.110414 -0.386750  0.052934  0.514312   \n",
       "15881  0.117149 -0.537703  0.337607  0.889394  0.374542  1.092695 -0.917639   \n",
       "\n",
       "            V15       V16       V17       V18       V19       V20       V21  \\\n",
       "4420  -1.219556 -0.757860 -0.067171 -0.888771 -1.230995 -0.263392  0.369474   \n",
       "1801   0.209619 -0.070554 -0.105378 -0.384206 -0.803307  4.950307  1.424039   \n",
       "7224   0.388374 -1.734793 -0.148292 -0.150307 -0.577783 -2.904052 -1.586334   \n",
       "20340  0.273785  0.206999 -0.449842  0.431083 -0.431024 -0.146145 -0.356539   \n",
       "2392  -0.282091  0.542547 -0.727222  0.546566  0.021249 -0.166110  0.207618   \n",
       "...         ...       ...       ...       ...       ...       ...       ...   \n",
       "11326  1.238262 -1.029458  0.857658 -2.147546 -1.468941 -0.126796  0.028035   \n",
       "12012  2.630219 -1.162261  1.225621  0.217518  1.807818  0.445927 -1.015873   \n",
       "5406   0.186884  0.362021  0.432131  0.214071 -0.544358 -0.148855  0.018794   \n",
       "860    1.873885 -0.245739 -0.287915  0.497274  1.885534  0.397243 -0.136634   \n",
       "15881 -0.729232  1.712402 -0.470958 -0.511203  0.423536  0.025385  0.364043   \n",
       "\n",
       "            V22       V23       V24       V25       V26       V27       V28  \\\n",
       "4420   1.080352 -0.047033 -0.896342 -0.503328  0.649749  0.108960  0.169252   \n",
       "1801  -1.502738 -2.057312  0.146545 -0.932034 -0.045874 -0.550519  0.376198   \n",
       "7224  -1.047005  0.365648 -1.607278 -1.199722  0.054853 -2.149951  0.856058   \n",
       "20340 -0.735055  0.007142  0.932434 -0.387764 -0.628358 -0.016036 -0.080708   \n",
       "2392   0.730648  0.194229  0.813850 -0.307524  0.513357 -0.029960 -0.049713   \n",
       "...         ...       ...       ...       ...       ...       ...       ...   \n",
       "11326  0.406071  0.083490 -1.252695  0.003249  0.462116  0.087832  0.014933   \n",
       "12012  1.046120 -0.021348  0.083352  0.373525 -0.297784 -0.196786 -0.054041   \n",
       "5406   0.280618  0.034849  0.236311  0.055459  1.032465 -0.080719 -0.006971   \n",
       "860   -0.605978 -0.139050  0.979219  0.343449 -0.238021  0.090831  0.086881   \n",
       "15881  0.997873  0.083406  0.793947 -0.667990 -0.408896 -0.144623 -0.006713   \n",
       "\n",
       "        Amount  \n",
       "4420     65.10  \n",
       "1801   2549.00  \n",
       "7224    647.38  \n",
       "20340    10.00  \n",
       "2392     11.49  \n",
       "...        ...  \n",
       "11326    34.33  \n",
       "12012   129.96  \n",
       "5406     15.95  \n",
       "860      49.99  \n",
       "15881    90.00  \n",
       "\n",
       "[14438 rows x 29 columns]"
      ]
     },
     "execution_count": 20,
     "metadata": {},
     "output_type": "execute_result"
    }
   ],
   "source": [
    "X_train"
   ]
  },
  {
   "cell_type": "code",
   "execution_count": 21,
   "metadata": {},
   "outputs": [],
   "source": [
    "from sklearn.linear_model import LogisticRegression"
   ]
  },
  {
   "cell_type": "code",
   "execution_count": 22,
   "metadata": {},
   "outputs": [],
   "source": [
    "lr = LogisticRegression(n_jobs=-1)"
   ]
  },
  {
   "cell_type": "code",
   "execution_count": 23,
   "metadata": {
    "scrolled": false
   },
   "outputs": [
    {
     "data": {
      "text/plain": [
       "LogisticRegression(C=1.0, class_weight=None, dual=False, fit_intercept=True,\n",
       "                   intercept_scaling=1, l1_ratio=None, max_iter=100,\n",
       "                   multi_class='warn', n_jobs=-1, penalty='l2',\n",
       "                   random_state=None, solver='warn', tol=0.0001, verbose=0,\n",
       "                   warm_start=False)"
      ]
     },
     "execution_count": 23,
     "metadata": {},
     "output_type": "execute_result"
    }
   ],
   "source": [
    "lr.fit(X_train, y_train)"
   ]
  },
  {
   "cell_type": "code",
   "execution_count": 26,
   "metadata": {},
   "outputs": [
    {
     "data": {
      "text/plain": [
       "0.9963291314586508"
      ]
     },
     "execution_count": 26,
     "metadata": {},
     "output_type": "execute_result"
    }
   ],
   "source": [
    "lr.score(X_train, y_train)"
   ]
  },
  {
   "cell_type": "code",
   "execution_count": 25,
   "metadata": {},
   "outputs": [],
   "source": [
    "y_pred = lr.predict(X_train)\n",
    "pred = lr.predict(X_test)"
   ]
  },
  {
   "cell_type": "code",
   "execution_count": 26,
   "metadata": {},
   "outputs": [
    {
     "data": {
      "text/plain": [
       "0.9967660292463442"
      ]
     },
     "execution_count": 26,
     "metadata": {},
     "output_type": "execute_result"
    }
   ],
   "source": [
    "lr.score(X_test, y_test)"
   ]
  },
  {
   "cell_type": "code",
   "execution_count": null,
   "metadata": {},
   "outputs": [],
   "source": []
  },
  {
   "cell_type": "code",
   "execution_count": null,
   "metadata": {},
   "outputs": [],
   "source": []
  },
  {
   "cell_type": "code",
   "execution_count": 27,
   "metadata": {
    "scrolled": false
   },
   "outputs": [
    {
     "name": "stdout",
     "output_type": "stream",
     "text": [
      "*************** Classification report on training set ********************\n",
      "              precision    recall  f1-score   support\n",
      "\n",
      "     class 0       1.00      1.00      1.00     14204\n",
      "     class 1       0.97      0.80      0.88       234\n",
      "\n",
      "    accuracy                           1.00     14438\n",
      "   macro avg       0.98      0.90      0.94     14438\n",
      "weighted avg       1.00      1.00      1.00     14438\n",
      "\n",
      "*************** Confusion matrix on training set ********************\n",
      "[[14198     6]\n",
      " [   47   187]]\n",
      " _ _ _ _ _ _ _ _ _ _ _ _ _ _ _ _ _ _ _ _ _ _ _ _ _ _ _ _ _ _ _ _ _ _ _ _ _ _ _ _ _ _ _ _ _ _ _ _ _ _\n",
      "*************** Classification report on test set ********************\n",
      "              precision    recall  f1-score   support\n",
      "\n",
      "     class 0       1.00      1.00      1.00      7000\n",
      "     class 1       0.97      0.82      0.89       112\n",
      "\n",
      "    accuracy                           1.00      7112\n",
      "   macro avg       0.98      0.91      0.94      7112\n",
      "weighted avg       1.00      1.00      1.00      7112\n",
      "\n",
      "*************** Classification report on test set ********************\n",
      "[[6997    3]\n",
      " [  20   92]]\n"
     ]
    }
   ],
   "source": [
    "from sklearn.metrics import classification_report, confusion_matrix\n",
    "target_names = ['class 0', 'class 1']\n",
    "print('*************** Classification report on training set ********************')\n",
    "print(classification_report(y_train, y_pred, target_names=target_names))\n",
    "print('*************** Confusion matrix on training set ********************')\n",
    "print(confusion_matrix(y_train, y_pred))\n",
    "\n",
    "print(' _' *50)\n",
    "from sklearn.metrics import classification_report, confusion_matrix\n",
    "print('*************** Classification report on test set ********************')\n",
    "print(classification_report(y_test, pred, target_names=target_names))\n",
    "print('*************** Classification report on test set ********************')\n",
    "print(confusion_matrix(y_test, pred))"
   ]
  },
  {
   "cell_type": "code",
   "execution_count": 28,
   "metadata": {},
   "outputs": [
    {
     "data": {
      "text/plain": [
       "DecisionTreeClassifier(class_weight=None, criterion='gini', max_depth=None,\n",
       "                       max_features=None, max_leaf_nodes=None,\n",
       "                       min_impurity_decrease=0.0, min_impurity_split=None,\n",
       "                       min_samples_leaf=1, min_samples_split=2,\n",
       "                       min_weight_fraction_leaf=0.0, presort=False,\n",
       "                       random_state=None, splitter='best')"
      ]
     },
     "execution_count": 28,
     "metadata": {},
     "output_type": "execute_result"
    }
   ],
   "source": [
    "from sklearn.tree import DecisionTreeClassifier\n",
    "dt = DecisionTreeClassifier()\n",
    "dt.fit(X_train, y_train)"
   ]
  },
  {
   "cell_type": "code",
   "execution_count": 29,
   "metadata": {},
   "outputs": [],
   "source": [
    "y_pred = dt.predict(X_train)\n",
    "pred = dt.predict(X_test)"
   ]
  },
  {
   "cell_type": "code",
   "execution_count": 30,
   "metadata": {
    "scrolled": true
   },
   "outputs": [
    {
     "name": "stdout",
     "output_type": "stream",
     "text": [
      "*************** Classification report on training set ********************\n",
      "              precision    recall  f1-score   support\n",
      "\n",
      "     class 0       1.00      1.00      1.00     14204\n",
      "     class 1       1.00      1.00      1.00       234\n",
      "\n",
      "    accuracy                           1.00     14438\n",
      "   macro avg       1.00      1.00      1.00     14438\n",
      "weighted avg       1.00      1.00      1.00     14438\n",
      "\n",
      "*************** Confusion matrix on training set ********************\n",
      "[[14204     0]\n",
      " [    0   234]]\n",
      " _ _ _ _ _ _ _ _ _ _ _ _ _ _ _ _ _ _ _ _ _ _ _ _ _ _ _ _ _ _ _ _ _ _ _ _ _ _ _ _ _ _ _ _ _ _ _ _ _ _\n",
      "*************** Classification report on test set ********************\n",
      "              precision    recall  f1-score   support\n",
      "\n",
      "     class 0       1.00      1.00      1.00      7000\n",
      "     class 1       0.79      0.79      0.79       112\n",
      "\n",
      "    accuracy                           0.99      7112\n",
      "   macro avg       0.89      0.90      0.89      7112\n",
      "weighted avg       0.99      0.99      0.99      7112\n",
      "\n",
      "*************** Confusion matrix on test set ********************\n",
      "[[6976   24]\n",
      " [  23   89]]\n"
     ]
    }
   ],
   "source": [
    "from sklearn.metrics import classification_report, confusion_matrix\n",
    "target_names = ['class 0', 'class 1']\n",
    "print('*************** Classification report on training set ********************')\n",
    "print(classification_report(y_train, y_pred, target_names=target_names))\n",
    "print('*************** Confusion matrix on training set ********************')\n",
    "print(confusion_matrix(y_train, y_pred))\n",
    "\n",
    "print(' _' *50)\n",
    "from sklearn.metrics import classification_report, confusion_matrix\n",
    "print('*************** Classification report on test set ********************')\n",
    "print(classification_report(y_test, pred, target_names=target_names))\n",
    "print('*************** Confusion matrix on test set ********************')\n",
    "print(confusion_matrix(y_test, pred))"
   ]
  },
  {
   "cell_type": "code",
   "execution_count": 31,
   "metadata": {},
   "outputs": [
    {
     "data": {
      "text/plain": [
       "<matplotlib.axes._subplots.AxesSubplot at 0x2b2124c3bc8>"
      ]
     },
     "execution_count": 31,
     "metadata": {},
     "output_type": "execute_result"
    },
    {
     "data": {
      "image/png": "[encoded data removed]",
      "text/plain": [
       "<Figure size 720x720 with 1 Axes>"
      ]
     },
     "metadata": {
      "needs_background": "light"
     },
     "output_type": "display_data"
    }
   ],
   "source": [
    "#Model 1: Decision trees\n",
    "add_importances = pd.Series(dt.feature_importances_, index= X.columns)\n",
    "add_importances.nlargest(25).plot(kind= \"barh\", figsize=(10,10))"
   ]
  },
  {
   "cell_type": "code",
   "execution_count": 32,
   "metadata": {},
   "outputs": [
    {
     "data": {
      "text/plain": [
       "RandomForestClassifier(bootstrap=True, class_weight=None, criterion='gini',\n",
       "                       max_depth=None, max_features='auto', max_leaf_nodes=None,\n",
       "                       min_impurity_decrease=0.0, min_impurity_split=None,\n",
       "                       min_samples_leaf=1, min_samples_split=2,\n",
       "                       min_weight_fraction_leaf=0.0, n_estimators=10, n_jobs=-1,\n",
       "                       oob_score=False, random_state=None, verbose=0,\n",
       "                       warm_start=False)"
      ]
     },
     "execution_count": 32,
     "metadata": {},
     "output_type": "execute_result"
    }
   ],
   "source": [
    "from sklearn.ensemble import RandomForestClassifier\n",
    "rf = RandomForestClassifier(n_jobs=-1)\n",
    "rf.fit(X_train, y_train)"
   ]
  },
  {
   "cell_type": "code",
   "execution_count": 33,
   "metadata": {},
   "outputs": [],
   "source": [
    "y_pre = rf.predict(X_train)\n",
    "pre = rf.predict(X_test)"
   ]
  },
  {
   "cell_type": "code",
   "execution_count": 34,
   "metadata": {},
   "outputs": [
    {
     "name": "stdout",
     "output_type": "stream",
     "text": [
      "*************** Classification report on training set ********************\n",
      "              precision    recall  f1-score   support\n",
      "\n",
      "     class 0       1.00      1.00      1.00     14204\n",
      "     class 1       1.00      0.94      0.97       234\n",
      "\n",
      "    accuracy                           1.00     14438\n",
      "   macro avg       1.00      0.97      0.98     14438\n",
      "weighted avg       1.00      1.00      1.00     14438\n",
      "\n",
      "*************** Confusion matrix on training set ********************\n",
      "[[14204     0]\n",
      " [   15   219]]\n",
      " _ _ _ _ _ _ _ _ _ _ _ _ _ _ _ _ _ _ _ _ _ _ _ _ _ _ _ _ _ _ _ _ _ _ _ _ _ _ _ _ _ _ _ _ _ _ _ _ _ _\n",
      "*************** Classification report on test set ********************\n",
      "              precision    recall  f1-score   support\n",
      "\n",
      "     class 0       1.00      1.00      1.00      7000\n",
      "     class 1       0.97      0.81      0.88       112\n",
      "\n",
      "    accuracy                           1.00      7112\n",
      "   macro avg       0.98      0.91      0.94      7112\n",
      "weighted avg       1.00      1.00      1.00      7112\n",
      "\n",
      "*************** Confusion matrix on test set ********************\n",
      "[[6997    3]\n",
      " [  21   91]]\n"
     ]
    }
   ],
   "source": [
    "from sklearn.metrics import classification_report, confusion_matrix\n",
    "target_names = ['class 0', 'class 1']\n",
    "print('*************** Classification report on training set ********************')\n",
    "print(classification_report(y_train, y_pre, target_names=target_names))\n",
    "print('*************** Confusion matrix on training set ********************')\n",
    "print(confusion_matrix(y_train, y_pre))\n",
    "\n",
    "print(' _' *50)\n",
    "from sklearn.metrics import classification_report, confusion_matrix\n",
    "print('*************** Classification report on test set ********************')\n",
    "print(classification_report(y_test, pre, target_names=target_names))\n",
    "print('*************** Confusion matrix on test set ********************')\n",
    "print(confusion_matrix(y_test, pre))"
   ]
  },
  {
   "cell_type": "code",
   "execution_count": 35,
   "metadata": {},
   "outputs": [],
   "source": [
    "# Breaking the data into fraud and genuine transactions\n",
    "fraud_data = fraud[fraud['Class']==1]\n",
    "genuine_data = fraud[fraud['Class']==0]"
   ]
  },
  {
   "cell_type": "code",
   "execution_count": 36,
   "metadata": {
    "scrolled": true
   },
   "outputs": [
    {
     "data": {
      "image/png": "[encoded data removed]",
      "text/plain": [
       "<Figure size 1080x720 with 2 Axes>"
      ]
     },
     "metadata": {},
     "output_type": "display_data"
    }
   ],
   "source": [
    "import matplotlib.pyplot as plt\n",
    "sns.set_style('darkgrid')\n",
    "f, (ax1, ax2) = plt.subplots(2, 1, sharex=True, figsize=(15, 10))\n",
    "f.suptitle('Amount per transaction by class')\n",
    "\n",
    "ax1.hist(fraud_data.Amount, 100)\n",
    "ax1.set_title('Fraud')\n",
    "ax2.hist(genuine_data.Amount, 100)\n",
    "ax2.set_title('Genuine')\n",
    "plt.xlabel('Amount ($)')\n",
    "plt.ylabel('Number of Transactions')\n",
    "plt.xlim((0, 20000))\n",
    "plt.yscale('log')\n",
    "plt.show();"
   ]
  },
  {
   "cell_type": "code",
   "execution_count": 37,
   "metadata": {},
   "outputs": [],
   "source": [
    "# The fraudulent amounts are very small and look skewed, we need to normalize the amount"
   ]
  },
  {
   "cell_type": "code",
   "execution_count": 38,
   "metadata": {},
   "outputs": [],
   "source": [
    "from sklearn.preprocessing import StandardScaler\n",
    "std = StandardScaler()\n",
    "fraud['Amount'] = std.fit_transform(np.array(fraud['Amount']).reshape(-1,1))"
   ]
  },
  {
   "cell_type": "code",
   "execution_count": 39,
   "metadata": {
    "scrolled": true
   },
   "outputs": [
    {
     "data": {
      "text/plain": [
       "<matplotlib.axes._subplots.AxesSubplot at 0x2b20fd30808>"
      ]
     },
     "execution_count": 39,
     "metadata": {},
     "output_type": "execute_result"
    },
    {
     "data": {
      "image/png": "[encoded data removed]",
      "text/plain": [
       "<Figure size 432x288 with 1 Axes>"
      ]
     },
     "metadata": {},
     "output_type": "display_data"
    }
   ],
   "source": [
    "sns.countplot('Class', data=fraud)"
   ]
  },
  {
   "cell_type": "code",
   "execution_count": 36,
   "metadata": {},
   "outputs": [],
   "source": [
    "X = fraud.drop(['Class'], axis=1)\n",
    "y = fraud.Class"
   ]
  },
  {
   "cell_type": "code",
   "execution_count": 41,
   "metadata": {},
   "outputs": [],
   "source": [
    "from sklearn.model_selection import train_test_split\n",
    "X_train, X_test, y_train, y_test = train_test_split(X, y, test_size=0.33, random_state=42)"
   ]
  },
  {
   "cell_type": "markdown",
   "metadata": {},
   "source": [
    "## Resampling with SMOTE"
   ]
  },
  {
   "cell_type": "markdown",
   "metadata": {},
   "source": [
    "#### Synthetic Minority Oversampling Technique (SMOTE)"
   ]
  },
  {
   "cell_type": "markdown",
   "metadata": {},
   "source": [
    "SMOTE technique generates new synthetic minority class data which is used to train the model. It selects minority class data points that are close in the feature space and draws a line between the selected data points. A new sample is generated at a point along this line. This procedure is used to create the required number of synthetic samples of the minority class. This approach is effective because new synthetic samples from the minority class are relatively close in feature space to existing minority class data."
   ]
  },
  {
   "cell_type": "code",
   "execution_count": 42,
   "metadata": {},
   "outputs": [],
   "source": [
    "# from imblearn.over_sampling import SMOTE\n",
    "# X_resampled, y_resampled = SMOTE().fit_sample(X_train, y_train)"
   ]
  },
  {
   "cell_type": "code",
   "execution_count": 43,
   "metadata": {},
   "outputs": [],
   "source": [
    "# WE are not resampling since tree based model are good in dealing with imbalance data"
   ]
  },
  {
   "cell_type": "code",
   "execution_count": 44,
   "metadata": {},
   "outputs": [],
   "source": [
    "from sklearn.linear_model import LogisticRegression"
   ]
  },
  {
   "cell_type": "code",
   "execution_count": 45,
   "metadata": {},
   "outputs": [],
   "source": [
    "lr = LogisticRegression(n_jobs=-1)"
   ]
  },
  {
   "cell_type": "code",
   "execution_count": 46,
   "metadata": {
    "scrolled": false
   },
   "outputs": [
    {
     "data": {
      "text/plain": [
       "LogisticRegression(C=1.0, class_weight=None, dual=False, fit_intercept=True,\n",
       "                   intercept_scaling=1, l1_ratio=None, max_iter=100,\n",
       "                   multi_class='warn', n_jobs=-1, penalty='l2',\n",
       "                   random_state=None, solver='warn', tol=0.0001, verbose=0,\n",
       "                   warm_start=False)"
      ]
     },
     "execution_count": 46,
     "metadata": {},
     "output_type": "execute_result"
    }
   ],
   "source": [
    "lr.fit(X_train, y_train)"
   ]
  },
  {
   "cell_type": "code",
   "execution_count": 47,
   "metadata": {},
   "outputs": [
    {
     "data": {
      "text/plain": [
       "0.9963291314586508"
      ]
     },
     "execution_count": 47,
     "metadata": {},
     "output_type": "execute_result"
    }
   ],
   "source": [
    "lr.score(X_train, y_train)"
   ]
  },
  {
   "cell_type": "code",
   "execution_count": null,
   "metadata": {},
   "outputs": [],
   "source": []
  },
  {
   "cell_type": "code",
   "execution_count": 48,
   "metadata": {},
   "outputs": [
    {
     "data": {
      "text/plain": [
       "DecisionTreeClassifier(class_weight=None, criterion='gini', max_depth=None,\n",
       "                       max_features=None, max_leaf_nodes=None,\n",
       "                       min_impurity_decrease=0.0, min_impurity_split=None,\n",
       "                       min_samples_leaf=1, min_samples_split=2,\n",
       "                       min_weight_fraction_leaf=0.0, presort=False,\n",
       "                       random_state=None, splitter='best')"
      ]
     },
     "execution_count": 48,
     "metadata": {},
     "output_type": "execute_result"
    }
   ],
   "source": [
    "from sklearn.tree import DecisionTreeClassifier\n",
    "dt = DecisionTreeClassifier()\n",
    "dt.fit(X_train, y_train)"
   ]
  },
  {
   "cell_type": "code",
   "execution_count": 49,
   "metadata": {},
   "outputs": [],
   "source": [
    "y_pred = dt.predict(X_test)"
   ]
  },
  {
   "cell_type": "code",
   "execution_count": 50,
   "metadata": {},
   "outputs": [
    {
     "name": "stdout",
     "output_type": "stream",
     "text": [
      "Accuracy: 0.9928290213723284\n",
      "f1_score: 0.7792207792207791\n",
      "Precision: 0.7563025210084033\n",
      "Recall: 0.8035714285714286\n",
      "[[6971   29]\n",
      " [  22   90]]\n"
     ]
    }
   ],
   "source": [
    "from sklearn.metrics import accuracy_score, recall_score, f1_score, precision_score, confusion_matrix\n",
    "print('Accuracy:', accuracy_score(y_test, y_pred))\n",
    "print('f1_score:', f1_score(y_test, y_pred))\n",
    "print('Precision:', precision_score(y_test, y_pred))\n",
    "print('Recall:', recall_score(y_test, y_pred))\n",
    "print(confusion_matrix(y_test, y_pred))"
   ]
  },
  {
   "cell_type": "code",
   "execution_count": 51,
   "metadata": {},
   "outputs": [
    {
     "name": "stdout",
     "output_type": "stream",
     "text": [
      "Accuracy: 0.9963442069741283\n",
      "f1_score: 0.8761904761904763\n",
      "Precision: 0.9387755102040817\n",
      "Recall: 0.8214285714285714\n",
      "[[6994    6]\n",
      " [  20   92]]\n"
     ]
    }
   ],
   "source": [
    "from sklearn.metrics import accuracy_score, recall_score, f1_score, precision_score, confusion_matrix\n",
    "pre = lr.predict(X_test)\n",
    "print('Accuracy:', accuracy_score(y_test, pre))\n",
    "print('f1_score:', f1_score(y_test, pre))\n",
    "print('Precision:', precision_score(y_test, pre))\n",
    "print('Recall:', recall_score(y_test, pre))\n",
    "print(confusion_matrix(y_test, pre))"
   ]
  },
  {
   "cell_type": "code",
   "execution_count": 52,
   "metadata": {},
   "outputs": [
    {
     "data": {
      "text/plain": [
       "RandomForestClassifier(bootstrap=True, class_weight=None, criterion='gini',\n",
       "                       max_depth=None, max_features='auto', max_leaf_nodes=None,\n",
       "                       min_impurity_decrease=0.0, min_impurity_split=None,\n",
       "                       min_samples_leaf=1, min_samples_split=2,\n",
       "                       min_weight_fraction_leaf=0.0, n_estimators=800,\n",
       "                       n_jobs=-1, oob_score=False, random_state=None, verbose=0,\n",
       "                       warm_start=False)"
      ]
     },
     "execution_count": 52,
     "metadata": {},
     "output_type": "execute_result"
    }
   ],
   "source": [
    "from sklearn.ensemble import RandomForestClassifier\n",
    "rf = RandomForestClassifier(n_estimators=800, n_jobs=-1)\n",
    "rf.fit(X_train, y_train)"
   ]
  },
  {
   "cell_type": "code",
   "execution_count": 53,
   "metadata": {},
   "outputs": [],
   "source": [
    "p = rf.predict(X_test)"
   ]
  },
  {
   "cell_type": "code",
   "execution_count": 54,
   "metadata": {},
   "outputs": [
    {
     "name": "stdout",
     "output_type": "stream",
     "text": [
      "Accuracy: 0.9969066366704162\n",
      "f1_score: 0.8942307692307694\n",
      "Precision: 0.96875\n",
      "Recall: 0.8303571428571429\n",
      "[[6997    3]\n",
      " [  19   93]]\n"
     ]
    }
   ],
   "source": [
    "from sklearn.metrics import accuracy_score, recall_score, f1_score, precision_score, confusion_matrix\n",
    "pre = lr.predict(X_test)\n",
    "print('Accuracy:', accuracy_score(y_test, p))\n",
    "print('f1_score:', f1_score(y_test, p))\n",
    "print('Precision:', precision_score(y_test, p))\n",
    "print('Recall:', recall_score(y_test, p))\n",
    "print(confusion_matrix(y_test, p))"
   ]
  },
  {
   "cell_type": "markdown",
   "metadata": {},
   "source": [
    "# NEXT?"
   ]
  },
  {
   "cell_type": "markdown",
   "metadata": {},
   "source": [
    "* **Hyperparamter tuning**\n",
    "* Then?\n",
    "* Then??"
   ]
  },
  {
   "cell_type": "code",
   "execution_count": 55,
   "metadata": {},
   "outputs": [],
   "source": [
    "from catboost import CatBoostClassifier"
   ]
  },
  {
   "cell_type": "code",
   "execution_count": 56,
   "metadata": {},
   "outputs": [],
   "source": [
    "# # Model\n",
    "\n",
    "# from sklearn.model_selection import RandomizedSearchCV\n",
    "\n",
    "# model = CatBoostClassifier(eval_metric='AUC',\n",
    "#                            random_seed = 1020,\n",
    "#                            bagging_temperature = 0.2,\n",
    "#                            od_type='Iter',\n",
    "#                            metric_period = 50,\n",
    "#                            od_wait=100)\n",
    "\n",
    "# parameters= {\n",
    "#                'learning_rate':[0.02],\n",
    "#                'max_depth': [15],\n",
    "#                'iterations': [300]\n",
    "#                 }\n",
    "\n",
    "# clf = RandomizedSearchCV(model, parameters, random_state=0, cv=5, scoring='accuracy')\n",
    "\n",
    "# clf.fit(X_train, y_train, verbose=True)\n",
    "\n",
    "# preds = clf.predict(X_test)"
   ]
  },
  {
   "cell_type": "code",
   "execution_count": 69,
   "metadata": {},
   "outputs": [
    {
     "name": "stdout",
     "output_type": "stream",
     "text": [
      "CatBoost model is fitted: True\n",
      "CatBoost model parameters:\n",
      "{'iterations': 800, 'learning_rate': 0.1, 'loss_function': 'CrossEntropy'}\n"
     ]
    }
   ],
   "source": [
    "clf = CatBoostClassifier(\n",
    "    iterations=800, \n",
    "    learning_rate=0.1,\n",
    "#     max_depth = 15,\n",
    "    loss_function='CrossEntropy'\n",
    ")\n",
    "\n",
    "\n",
    "clf.fit(X_train, y_train, \n",
    "        eval_set=(X_test, y_test), \n",
    "        verbose=False\n",
    ")\n",
    "\n",
    "print('CatBoost model is fitted: ' + str(clf.is_fitted()))\n",
    "print('CatBoost model parameters:')\n",
    "print(clf.get_params())"
   ]
  },
  {
   "cell_type": "code",
   "execution_count": 70,
   "metadata": {},
   "outputs": [
    {
     "data": {
      "text/plain": [
       "0.9239642857142857"
      ]
     },
     "execution_count": 70,
     "metadata": {},
     "output_type": "execute_result"
    }
   ],
   "source": [
    "from sklearn.metrics import roc_auc_score\n",
    "roc_auc_score(y_test, clf.predict(X_test))"
   ]
  },
  {
   "cell_type": "code",
   "execution_count": 71,
   "metadata": {},
   "outputs": [
    {
     "data": {
      "text/plain": [
       "0.9090909090909091"
      ]
     },
     "execution_count": 71,
     "metadata": {},
     "output_type": "execute_result"
    }
   ],
   "source": [
    "f1_score(y_test, clf.predict(X_test))"
   ]
  },
  {
   "cell_type": "code",
   "execution_count": 65,
   "metadata": {
    "scrolled": true
   },
   "outputs": [
    {
     "data": {
      "text/plain": [
       "array([[6998,    2],\n",
       "       [  17,   95]], dtype=int64)"
      ]
     },
     "execution_count": 65,
     "metadata": {},
     "output_type": "execute_result"
    }
   ],
   "source": [
    "confusion_matrix(y_test, clf.predict(X_test))"
   ]
  },
  {
   "cell_type": "code",
   "execution_count": 28,
   "metadata": {},
   "outputs": [],
   "source": [
    "from lightgbm import LGBMClassifier"
   ]
  },
  {
   "cell_type": "code",
   "execution_count": 64,
   "metadata": {},
   "outputs": [
    {
     "data": {
      "text/plain": [
       "0"
      ]
     },
     "execution_count": 64,
     "metadata": {},
     "output_type": "execute_result"
    }
   ],
   "source": [
    "y.isnull().sum()"
   ]
  },
  {
   "cell_type": "code",
   "execution_count": 79,
   "metadata": {
    "scrolled": true
   },
   "outputs": [
    {
     "name": "stdout",
     "output_type": "stream",
     "text": [
      "fold 0 fscore 0.8571428571428572\n",
      "fold 1 fscore 0.923076923076923\n",
      "fold 2 fscore 0.8976377952755905\n",
      "fold 3 fscore 0.8799999999999999\n",
      "fold 4 fscore 0.8976377952755905\n",
      "Mean f score 0.8976377952755905\n"
     ]
    }
   ],
   "source": [
    "# split train into 5 folds and apply random forest and check accuracy of each fold\n",
    "\n",
    "from sklearn.metrics import accuracy_score, f1_score\n",
    "from sklearn.ensemble import RandomForestClassifier, VotingClassifier\n",
    "from sklearn.model_selection import StratifiedKFold,KFold\n",
    "from lightgbm                         import LGBMClassifier\n",
    "from catboost                         import CatBoostClassifier\n",
    "\n",
    "rf = LGBMClassifier(learning_rate=0.01,\n",
    "                    boosting_type='gbdt', max_depth=9,  objective='binary', \n",
    "                    random_state=100,  \n",
    "                  n_estimators=1000 ,reg_alpha=0, reg_lambda=1, n_jobs=-1)\n",
    "\n",
    "# # all blank values replace with mode \n",
    "# for column in df.columns:\n",
    "#     df[column].fillna(df[column].mode()[0], inplace=True)\n",
    "\n",
    "kf = StratifiedKFold(n_splits=5,shuffle=True,random_state=10)\n",
    "acc = []\n",
    "\n",
    "for fold,(t_id,v_id) in enumerate(kf.split(X,y)):\n",
    "    tx = X.iloc[t_id]; ty = y.iloc[t_id]\n",
    "    vx = X.iloc[v_id]; vy = y.iloc[v_id]\n",
    "    rf.fit(tx,ty, \n",
    "#            categorical_feature = categorical_features\n",
    "#            cat_features = categorical_features\n",
    "          )\n",
    "           \n",
    "    val_y = rf.predict(vx)\n",
    "    f1_scor = f1_score(vy,val_y)\n",
    "    acc.append(f1_scor)\n",
    "    print(f\"fold {fold} fscore {f1_scor}\")\n",
    "\n",
    "print(f\"Mean f score {np.mean(f1_scor)}\")\n"
   ]
  },
  {
   "cell_type": "code",
   "execution_count": 77,
   "metadata": {},
   "outputs": [],
   "source": [
    "# Cross validation does not improve f1 score"
   ]
  }
 ],
 "metadata": {
  "kernelspec": {
   "display_name": "Python 3",
   "language": "python",
   "name": "python3"
  },
  "language_info": {
   "codemirror_mode": {
    "name": "ipython",
    "version": 3
   },
   "file_extension": ".py",
   "mimetype": "text/x-python",
   "name": "python",
   "nbconvert_exporter": "python",
   "pygments_lexer": "ipython3",
   "version": "3.7.4"
  }
 },
 "nbformat": 4,
 "nbformat_minor": 2
}
